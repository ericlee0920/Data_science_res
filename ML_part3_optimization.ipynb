{
 "cells": [
  {
   "cell_type": "markdown",
   "metadata": {},
   "source": [
    "## Quick Machine Learning\n",
    "### Part. 3 Optimization"
   ]
  },
  {
   "cell_type": "markdown",
   "metadata": {},
   "source": [
    "### Linear Regression\n",
    "- **Linear Regression** makes predictions using a linear function: $\\hat y_{i} = wx_{i}$.\n",
    "    - $w$ is the weight or regression coefficient of $x_{i}$, affecting rate of $\\hat y_{i}$ increase/decrease.\n",
    "- Minimize sum of squares errors objective: $f(w)=\\sum_{i=1}^{n}(wx_{i}-y_{i})^2$\n",
    "- Minimize differentiable function: solve $f'(w)=0$, choose smallest one and check $f''(w)>0$.\n",
    "    - For w of sum of squared errors: $w=\\frac{\\sum_{i}^{n}x_{i}y_{i}}{\\sum_{i}^{n}x_{i}^{2}}$. Check minimizer by checking $f''(w)=\\sum_{i}^{n}x_{i}^{2}>0$.\n",
    "- **d-Dimensional Linear Model**: $\\hat y_{i} = w_{1}x_{i1} + w_{2}x_{i2}...w_{d}x_{id} = \\sum_{j=1}^{d}w_{j}x_{ij} = w^{T}x_{i}$\n",
    "    - thus to minimize sum of squares errors objective in d-Dimensions: $f(w)=\\sum_{i=1}^{n}(w^{T}x_{i}-y_{i})^2$\n",
    "- Gradient is vector with partial derivative j in position j.\n",
    "    - gradient for sum of squares is $Aw-b+0=X^{T}Xw-X^{T}y$, the minimizer to this objective are the solutions to the linear system.\n",
    "    - forming vector $X^{T}y$ is $O(nd)$, matrix $X^{T}X$ is $O(nd^{2})$, solving d by d system of equations is $O(d^{3})$, thus overall $O(nd^{2}+d^{3})$\n",
    "- Least Squares assumes linearity. It may predict outside of range values, data can be big that we can't store $X^{T}X$, features must all be used. Solution can be not unique and it is sensitive to outliers.\n",
    "    - Solution is unique iff all columns of $X$ are linearly independent.\n",
    "- Y-intercept is omitted, but we add a bias variable that is always 1.\n",
    "- Non-linear features can be transformed by change of basis, e.g. $\\hat y_{i} = w_{1}x_{i} + w_{2}x_{i}^{2}...w_{p}x_{i}^{p}$\n",
    "    - when polynomial degree increases, training error falls, approximation error goes up when overfitting with large $p$. Use cross-validation here."
   ]
  },
  {
   "cell_type": "markdown",
   "metadata": {},
   "source": [
    "### Gradient Descent\n",
    "- Optimization is maximizing or minimizing an objective by a minimizer.\n",
    "- **Gradient Descent** is an iterative optimization algorithm.\n",
    "    - Initialize at guess $w^{0}$\n",
    "    - Use $\\nabla f(w^{0})$ to guess $w^{1}$\n",
    "    - Use $\\nabla f(w^{1})$ to guess $w^{2}$\n",
    "    - $\\lim_{t\\to\\infty} \\nabla f(w^{t})=0$, convergence.\n",
    "- New guess: $w^{t+1}=w^{t}-\\alpha^{t} \\nabla f(w^{t})$ for t = 1,2,3...\n",
    "- For Least squares using gradient descent, cost is $O(ndt)$.\n",
    "- **Convexity** applies if area above the function is a convex set, such as:\n",
    "    - Twice-differentiable function positive for all $w$\n",
    "    - Convex function multiplied by constant\n",
    "    - Composition of convex and linear functions\n",
    "    - Sum or max of convex functions\n",
    "    - Norms or squared norms\n",
    "    - *NOT* convex: multiplication or composition of convex functions"
   ]
  },
  {
   "cell_type": "markdown",
   "metadata": {},
   "source": [
    "### Robust Regression\n",
    "- In least sqaures, squaring the rror shrinks the small errors but magnifies large ones. Large errors influence $w$ much more than other points.\n",
    "- **Robust Regression** objectives focus less on large errors, e.g. use absolute error instead of squared error.\n",
    "    - L1-norm: $f(w)=||Xw-y||_{1}=\\sum_{i=1}^{n}|w^{T}x_{i}-y_{i}|$\n",
    "    - Yet, minimizing absolute error is harder since we don't have normal equations, absolute value is non-differentiable at 0.\n",
    "    - Unlike smooth functions, gradient may not get smaller near a minimizer. To apply gradient descent, we use smooth approximation.\n",
    "    - Huber Loss is a smooth approximations to absolute value: $f(w)=\\sum_{i=1}^{n}h(w^{T}x_{i}-y_{i})$\n",
    "     $ h(r_{i})=   \\left\\{\n",
    "\\begin{array}{ll}\n",
    "      \\frac{1}{2}r_{i}^{2} & |r_{i}|<=\\epsilon \\\\\n",
    "      \\epsilon(|r_{i}|-\\frac{1}{2}\\epsilon) & otherwise \\\\\n",
    "\\end{array} \n",
    "\\right.$\n",
    "    - \"h\" is differentiable, $h'(\\epsilon)=\\epsilon$\n",
    "    - \"f\" is convex but $\\nabla f(x)=0$ doesn't give a linear system. We can minimize Huber loss using gradient descent.\n",
    "- Non-convex errors can be very robust, not influenced by outliers, but finding global minimum is hard.\n",
    "- Brittle Regression: using $L_{\\infty}$ error is more sensitive to outliers. Also not differentiable, use logsumexp to solve.\n",
    "- Log-Sum-Exp: $max_{i}(z_{i})\\approx \\ln(\\sum_{i}exp(z_{i}))$"
   ]
  },
  {
   "cell_type": "markdown",
   "metadata": {},
   "source": [
    "### Finding the True Model\n",
    "- There are lot of scores used to find the true model. \n",
    "- The idea is to put a penalty on the model complexity, e.g. minimize training error plus the degree of polynomial $score(p)=\\frac{1}{2}||Z_{p}v-y||^{2}+p$. We optimize by:\n",
    "    - form $Z_{0}$, solve for v, compute score(0)\n",
    "    - form $Z_{1}$, solve for v, compute score(1)...\n",
    "    - choose degree with lowest score\n",
    "- Information Criteria are in the form of $score(p)=\\frac{1}{2}||Z_{p}v-y||^{2}+\\lambda k$, where $k$ is the degrees of freedom, and $\\lambda > 0$ controls how strong we penalize complexity (you need to decrease training error by at least $\\lambda$ to increase $k$ by 1).\n",
    "- $\\lambda =1$ is called Akaike information criterion (AIC), others include Mallows $C_{p}$, ajusted $R^{2}$, ANOVA-based model selection, Bayesian IC where $\\lambda =\\frac{1}{2}log(n)$."
   ]
  },
  {
   "cell_type": "markdown",
   "metadata": {},
   "source": [
    "### Feature Selection\n",
    "- Feature is relevant if helps predict $y_{i}$ from $x_{i}$.\n",
    "- Association Approach: for each feature $j$, compute correlation between feature values $x^{j}$ and $y$. This turns feature selection into hypothesis testing for each feature and ignores variable interctions.\n",
    "    - GWAS: measure association between each single nucleotide polymorphism in the genome and a disease. Yet, huge number of false positives.\n",
    "- Regression Weight Approach: fit regression weights based on all features, take all features $j$ where weight $|w_{j}|$ is greater than a threshold. This has major problems with **collinearity**.\n",
    "- **Search and Score** Method: define score function $f(S)$ that measures quality of a set of features $S$.\n",
    "    - compute score of feature {1}\n",
    "    - compute score of feature {2}\n",
    "    - compute score of feature {1,2}\n",
    "    - compute score of feature {}\n",
    "    - return set of features with best score\n",
    "- Score can be the validation error. If we have $d$ variables, there will be $2^{d}$ sets of variables. Prone to false positives and optimization bias is high.\n",
    "    - To reduce false positives, we can use complexity penalties: $score(S)=\\frac{1}{2}\\sum_{i=1}^{n}(w_{s}^{T}x_{is}-y_{i})^{2}+ size(S)$, if two $S$ has similar error, take the smaller set.\n",
    "    - instead of $size(S)$, we write L0-norm which is the number of non-zero values.\n",
    "- Score can be the **L0-Norm Penalty / L0-Regularization**: $f(w)=\\frac{1}{2}||Xw-y||^{2}+ \\lambda ||w||_{0}$.\n",
    "- Search and Score is hard to search for best $S$ due to $2^{d}$ sets. Solve by using Forward Selection which is a greedy search heuristic $O(d^{2})$.\n",
    "    - compute score if use no features {}\n",
    "    - add each feature once and add feature with the best score to {}\n",
    "    - add each feature to the {feature_1} once and add feature with the best score, check if {feature_1 U feature_2} improves the best score, then iterate.\n",
    "- Relevance in feature selection depends on collinearity, conditional independence, effect size, confounding, causality, context-specific problems. Relevance doesn't imply causal relationship.\n",
    "\n"
   ]
  },
  {
   "cell_type": "markdown",
   "metadata": {},
   "source": [
    "### L2-Regularization / Ridge Regression\n",
    "- Regularization adds a penalty on the complexity of the model. This increases training error but decreases approximation error.\n",
    "- L2-regularization: $f(w)=\\frac{1}{2}||Xw-y||^{2}+ \\frac{\\lambda}{2} ||w||^{2}$.\n",
    "    - intuition is large slopes $w_{j}$ tend to lead to overfitting. Larger $\\lambda$ puts larger penalty on slopes.\n",
    "    - How to choose $\\lambda$? as n grows $\\lambda$ should be in the range $O(1)->O(\\sqrt{n})$.\n",
    "- Regularization path is a plot of optimal weights $w_{j}$ as $lambda$ varies.\n",
    "- L2 gradient: $\\nabla f(w)=X^{T}Xw-X^{T}y+\\lambda w$\n",
    "- L2 linear system: $(X^{T}X+\\lambda I)w=X^{T}y$\n",
    "    - unlike $X^{T}X$, matrix $(X^{T}X+\\lambda I)$ is always invertible.\n",
    "    - multiple by its inverse for unique solution.\n",
    "- L2 Gradient Descent Iterations: $w^{t+1}=w^{t}-\\alpha^{t}\\nabla f(w^{t})$ $\\nabla f(w^{t})=X^{T}(Xw^{t}-y)+\\lambda w$, number of iterations decrease as $\\lambda$ increases.\n",
    "- Should we standardize unit? \n",
    "    - It doesn't matter for decision trees, naive Bayes, least squares.\n",
    "    - It does for KNN, regularized least squares.\n",
    "- Standardizing continuous features using z-scores for each feature is common practice. Standardizing test data should use mean and standard deviation of the training data."
   ]
  },
  {
   "cell_type": "markdown",
   "metadata": {},
   "source": [
    "### Radial Basis Function\n",
    "- Parametric Bases: linear models with polynomials, exponentials, logs, trignometric functions.\n",
    "- Non-parametric Bases: size of basis grows with $n$, with enough data can model complicated functions, e.g. Gaussian RBF.\n",
    "- Gaussian RBF: universal approximators that acheive optimal test error as n goes to infinity.\n",
    "    - intuition is to use $n$ bumps where each bump is centered on one training example $x_{i}$. Fitting regression weights $w$ gives us heights of bumps. Widths of bumps is a hyper-parameter, the more narrow the more complicated the model.\n",
    "- Radial Basis Functions (RBF): a set of non-parametric bases that depend on distances to training points. $replace\\ x_{i}=(x_{i1},x_{i2}...x_{id})\\ with\\ z_{i}=(g(||x_{i}-x_{1}||),g(||x_{i}-x_{2}||)...g(||x_{i}-x_{n}||)) $\n",
    "    - going from $d$ features to $n$ features.\n",
    "    - having $n$ features with each feature $j$ depending on distance to example $i$.\n",
    "    - Gaussian RBF is $g$: $g(\\epsilon)=\\exp{(-\\frac{\\epsilon^{2}}{2\\sigma^{2}})}$, variance here is a hyper-parameter controlling width.\n",
    "    - Constructing RBF given data $X$ and hyper-parameter $\\sigma$.\n",
    "        - Z = np.zeros((n,n))\n",
    "        - for i in range(n) and for j in range(n):\n",
    "            - $Z[i,j]=np.exp(\\frac{-norm(X[i,:]-X[j,:])^{2}}{2\\sigma^{2}})$\n",
    "- Gaussian RBF predictions: $\\hat{y_{i}}=\\sum_{j=1}^{n}w_{j}\\exp{(-\\frac{||x_{i}-x_{j}||^{2}}{2\\sigma^{2}})}$\n",
    "    - flexible bases can model any continuous function, but with $n$ data points RBF has $n$ basis functions.\n",
    "    - avoid overfitting by regularizing $w$ and using validation error to choose $\\sigma$ and $\\lambda$.\n",
    "- Good Model Example: RBF basis with L2-regularization and cross-validation to choose $\\sigma$ and $\\lambda$.\n",
    "    - for each value of $\\sigma$ and $\\lambda$:\n",
    "        - compute $Z$ on training data\n",
    "        - compute best $v$, $v=(Z^{T}Z+\\lambda I)^{-1}Z^{T}y$\n",
    "        - compute $\\tilde{Z}$ on validation data using training data distances\n",
    "        - make predictions $\\hat{y}=\\tilde{Z}v$\n",
    "        - compute validation error $||\\hat{y}-\\tilde{y}||^{2}$\n",
    "- Hyper-parameter Optimization: try to efficiently find best parameters, e.g. coordinate search, stochastic local search, Bayesian optimization."
   ]
  },
  {
   "cell_type": "markdown",
   "metadata": {},
   "source": [
    "### L1-Regularization / LASSO Regularization\n",
    "- L1-regularization: $f(w)=\\frac{1}{2}||Xw-y||^{2}+ \\lambda ||w||_{1}$.\n",
    "    - convex and improves test error, like L2-norm\n",
    "    - encourages elements of $w$ to be 0, like L0-norm\n",
    "    - simultaneously regularizes and selects features   \n",
    "    - requires iterative solver\n",
    "    - solution is not unique, unlike L2-regularization\n",
    "    - can learn with exponential number of irrelevant features, unlike L2 which learn only linear number of irrelevant features.\n",
    "    \n",
    "- Note: $f(w)=\\frac{1}{2}||Xw-y||^{2}+ \\lambda ||w||_{1}$ is L2-loss + L1-regularizer\n",
    "\n",
    "### Summary Table for Regularizers\n",
    "\n",
    "|  | sparse w | speed | unique w  | irrelevant features|\n",
    "|------|------|------|------|------|\n",
    "|L0 | Yes | Slow | No | Not Sensitive |\n",
    "|L1 | Yes | Fast | No | Not Sensitive |\n",
    "|L2 | No | Fast | Yes | Sensitive |"
   ]
  },
  {
   "cell_type": "markdown",
   "metadata": {},
   "source": [
    "### Linear Classifiers\n",
    "- Perceptron Algorithm for Linear-Seperable Data\n",
    "    - start with $w_{0}=0$\n",
    "    - go through examples until you make mistake predicting $y_{i}$, set $w^{t+1}=w^{t}+y_{i}x_{i}$\n",
    "    - resume until no errors on training data\n",
    "- If perfect classifier exists, algorithms finds one in finite steps.\n",
    "- 0-1 Loss Function: you either get classification wrong(1) or right(0).\n",
    "    - ideal but non-smooth and non-convex in $w$, if no perfect classifer exists then it is a hard problem. Gradient is 0 everywhere.\n",
    "- Degenerate convex approximation to 0-1 loss\n",
    "    - if $y_{i}=+1$, we get label right if $w^{T}x_{i}>0$\n",
    "    - if $y_{i}=-1$, we get label right if $w^{T}x_{i}<0$\n",
    "    - thus, classifying $i$ correctly is $y_{i}w^{T}x_{i}>0$\n",
    "    - this has degenerate solution of $\\sum_{i=1}^{n}\\max {(0, -y_{i}w^{T}x_{i})}$ since $f(0)=0$ and the lowest possible of $f$. Use hinge or logistic loss.\n",
    "- Hinge Loss: $f(w)=\\sum_{i=1}^{n}\\max {(0, 1-y_{i}w^{T}x_{i})}$\n",
    "    - convex, not degenerate $w=0$ gives $error=1$\n",
    "- Support Vector Machine is hinge loss + L2-regularization: $f(w)=\\sum_{i=1}^{n}\\max {(0, 1-y_{i}w^{T}x_{i})} + \\frac{\\lambda}{2}||w||^{2}$\n",
    "    "
   ]
  },
  {
   "cell_type": "markdown",
   "metadata": {},
   "source": [
    "- Logistic Loss: $\\sum_{i=1}^{n}\\max {(0, -y_{i}w^{T}x_{i})} \\approx \\log{(\\exp{(0)}+\\exp{(-y_{i}w^{T}x_{i}}))}$"
   ]
  },
  {
   "cell_type": "code",
   "execution_count": 6,
   "metadata": {},
   "outputs": [],
   "source": [
    "import numpy as np\n",
    "import numpy.random as npr\n",
    "import matplotlib.pyplot as plt\n",
    "%matplotlib inline\n",
    "from scipy.optimize import minimize\n",
    "import sklearn.linear_model"
   ]
  },
  {
   "cell_type": "code",
   "execution_count": 7,
   "metadata": {},
   "outputs": [
    {
     "name": "stdout",
     "output_type": "stream",
     "text": [
      "min = 3.0000000055708536\n",
      "arg min = [5. 5. 5.]\n"
     ]
    }
   ],
   "source": [
    "# optimization using minimization\n",
    "result = minimize(lambda x: np.linalg.norm(x-5)+3, np.random.rand(3))\n",
    "print(\"min =\", result.fun)\n",
    "print(\"arg min =\", result.x)"
   ]
  },
  {
   "cell_type": "code",
   "execution_count": 9,
   "metadata": {},
   "outputs": [
    {
     "name": "stdout",
     "output_type": "stream",
     "text": [
      "w = -0.005920\n",
      "b = -4.363263\n"
     ]
    },
    {
     "data": {
      "text/plain": [
       "Text(0, 0.5, 'y')"
      ]
     },
     "execution_count": 9,
     "metadata": {},
     "output_type": "execute_result"
    },
    {
     "data": {
      "image/png": "[encoded data removed]",
      "text/plain": [
       "<Figure size 432x288 with 1 Axes>"
      ]
     },
     "metadata": {
      "needs_background": "light"
     },
     "output_type": "display_data"
    }
   ],
   "source": [
    "def gen_outlier_data(n=40,Noutliers=3):\n",
    "    # generate random data\n",
    "    x = np.random.randn(n)\n",
    "    y = 10*x\n",
    "    # add random outliers\n",
    "    y[:Noutliers] = -100*(x[:Noutliers]+np.random.randn(Noutliers))\n",
    "    X = x[:,None]\n",
    "    return X,y\n",
    "\n",
    "# fit a linear regression model\n",
    "X,y = gen_outlier_data()\n",
    "lr = sklearn.linear_model.LinearRegression()\n",
    "lr.fit(X,y)\n",
    "\n",
    "print(\"w = %f\" % lr.coef_)\n",
    "print(\"b = %f\" % lr.intercept_)\n",
    "plt.plot(X,y,'.')\n",
    "plt.plot(X, lr.predict(X))\n",
    "plt.xlabel('x')\n",
    "plt.ylabel('y')"
   ]
  },
  {
   "cell_type": "code",
   "execution_count": 11,
   "metadata": {},
   "outputs": [
    {
     "data": {
      "image/png": "[encoded data removed]",
      "text/plain": [
       "<Figure size 432x288 with 1 Axes>"
      ]
     },
     "metadata": {
      "needs_background": "light"
     },
     "output_type": "display_data"
    },
    {
     "name": "stdout",
     "output_type": "stream",
     "text": [
      "w = 9.996783\n",
      "β = 0.001844\n"
     ]
    }
   ],
   "source": [
    "x = X.flatten()\n",
    "w = 0\n",
    "β = 0\n",
    "α = 1\n",
    "\n",
    "Nsteps = 1000\n",
    "\n",
    "for t in range(1,Nsteps):\n",
    "    dLdw = np.sum(x*np.sign(w*x+β-y))\n",
    "    dLdβ = np.sum(np.sign(w*x+β-y))\n",
    "    w -= (α/t)*dLdw # we are decreasing the step size over time to deal with the non-smoothness\n",
    "    β -= (α/t)*dLdβ # the details are beyond the scope of the course, see CPSC 540\n",
    "    \n",
    "plt.figure()\n",
    "plt.plot(x,y,'.')\n",
    "plt.plot(x,w*x+β)\n",
    "\n",
    "plt.xlabel('x')\n",
    "plt.ylabel('y')\n",
    "plt.show()\n",
    "\n",
    "print(\"w = %f\" % w)\n",
    "print(\"β = %f\" % β)"
   ]
  },
  {
   "cell_type": "code",
   "execution_count": null,
   "metadata": {},
   "outputs": [],
   "source": []
  }
 ],
 "metadata": {
  "kernelspec": {
   "display_name": "Python 3",
   "language": "python",
   "name": "python3"
  },
  "language_info": {
   "codemirror_mode": {
    "name": "ipython",
    "version": 3
   },
   "file_extension": ".py",
   "mimetype": "text/x-python",
   "name": "python",
   "nbconvert_exporter": "python",
   "pygments_lexer": "ipython3",
   "version": "3.7.3"
  }
 },
 "nbformat": 4,
 "nbformat_minor": 4
}
